{
 "cells": [
  {
   "cell_type": "code",
   "execution_count": 103,
   "metadata": {},
   "outputs": [],
   "source": [
    "import csv\n",
    "import numpy as np\n",
    "from sklearn.model_selection import train_test_split\n",
    "from sklearn.linear_model import LogisticRegression\n",
    "from sklearn.metrics import accuracy_score\n",
    "from sklearn.discriminant_analysis import LinearDiscriminantAnalysis\n",
    "from sklearn.decomposition import PCA\n",
    "from sklearn.neighbors import LocalOutlierFactor\n",
    "from sklearn.model_selection import KFold\n",
    "import statistics"
   ]
  },
  {
   "cell_type": "code",
   "execution_count": 104,
   "metadata": {},
   "outputs": [],
   "source": [
    "# Loading Data from Train Dataset\n",
    "Features, Labels = [], []\n",
    "with open ('train.csv', mode='r') as file:\n",
    "    csvFile = csv.reader(file)\n",
    "    data = list(csvFile)\n",
    "    data = data[1:]\n",
    "    for data_point in data:\n",
    "        Features.append(np.array([float(x) for x in data_point[1:-1]]))\n",
    "        Labels.append(data_point[-1])\n",
    "Features = np.array(Features)"
   ]
  },
  {
   "cell_type": "code",
   "execution_count": 105,
   "metadata": {},
   "outputs": [],
   "source": [
    "# Loading Data from Test Dataset\n",
    "Features_Test = []\n",
    "with open ('test.csv', mode='r') as file:\n",
    "    csvFile = csv.reader(file)\n",
    "    data = list(csvFile)\n",
    "    data = data[1:]\n",
    "    for data_point in data:\n",
    "        Features_Test.append(np.array([float(x) for x in data_point[1:]]))\n",
    "Features_Test = np.array(Features_Test)"
   ]
  },
  {
   "cell_type": "code",
   "execution_count": 106,
   "metadata": {},
   "outputs": [],
   "source": [
    "array = []\n",
    "kf = KFold(n_splits=10)\n",
    "# kf.get_n_splits(X)\n",
    "for i, (train_index, validation_index) in enumerate(kf.split(Features)):\n",
    "    Features_Train, Labels_Train = [], []\n",
    "    Features_Val, Labels_Val = [], []\n",
    "    for index in train_index:\n",
    "        Features_Train.append(Features[index])\n",
    "        Labels_Train.append(Labels[index])\n",
    "    for index in validation_index:\n",
    "        Features_Val.append(Features[index])\n",
    "        Labels_Val.append(Labels[index])\n",
    "    pca = PCA(n_components=324)\n",
    "    Features_Train_PCA = pca.fit_transform(Features_Train)\n",
    "    lda = LinearDiscriminantAnalysis(n_components=1)\n",
    "    X_train = lda.fit_transform(Features_Train_PCA, Labels_Train)\n",
    "    predict = lda.predict(pca.transform(Features_Test))\n",
    "    array.append(predict)"
   ]
  },
  {
   "cell_type": "code",
   "execution_count": 107,
   "metadata": {},
   "outputs": [],
   "source": [
    "A = []\n",
    "for j in range(len(array[0])):\n",
    "    B = []\n",
    "    for i in range(len(array)):\n",
    "        B.append(array[i][j])\n",
    "    A.append(B)"
   ]
  },
  {
   "cell_type": "code",
   "execution_count": 108,
   "metadata": {},
   "outputs": [
    {
     "name": "stdout",
     "output_type": "stream",
     "text": [
      "['Leeche_Raw', 'Orange_Raw', 'Pomengranate_Ripe', 'Strawberry_Raw', 'Orange_Ripe', 'Banana_Ripe', 'Orange_Ripe', 'Apple_Ripe', 'Coconut_Raw', 'Coconut_Ripe', 'Strawberry_Ripe', 'Banana_Ripe', 'Mango_Raw', 'Papaya_Ripe', 'Guava_Ripe', 'Leeche_Ripe', 'Orange_Raw', 'Banana_Raw', 'Papaya_Ripe', 'Mango_Raw', 'Guava_Raw', 'Banana_Ripe', 'Orange_Ripe', 'Pomengranate_Raw', 'Orange_Raw', 'Strawberry_Ripe', 'Apple_Raw', 'Orange_Ripe', 'Coconut_Ripe', 'Orange_Ripe', 'Banana_Ripe', 'Apple_Ripe', 'Mango_Raw', 'Banana_Raw', 'Mango_Raw', 'Coconut_Raw', 'Apple_Ripe', 'Orange_Raw', 'Orange_Raw', 'Pomengranate_Raw', 'Guava_Raw', 'Papaya_Raw', 'Leeche_Raw', 'Papaya_Ripe', 'Leeche_Raw', 'Apple_Ripe', 'Leeche_Raw', 'Leeche_Ripe', 'Banana_Ripe', 'Papaya_Ripe', 'Papaya_Raw', 'Mango_Ripe', 'Mango_Raw', 'Mango_Ripe', 'Apple_Ripe', 'Leeche_Ripe', 'Mango_Ripe', 'Mango_Raw', 'Coconut_Raw', 'Strawberry_Ripe', 'Banana_Ripe', 'Guava_Raw', 'Apple_Raw', 'Pomengranate_Raw', 'Strawberry_Raw', 'Apple_Raw', 'Mango_Raw', 'Guava_Raw', 'Guava_Raw', 'Pomengranate_Raw', 'Guava_Ripe', 'Strawberry_Raw', 'Mango_Ripe', 'Papaya_Ripe', 'Coconut_Raw', 'Guava_Ripe', 'Coconut_Ripe', 'Mango_Ripe', 'Banana_Raw', 'Guava_Raw', 'Mango_Raw', 'Mango_Raw', 'Apple_Ripe', 'Coconut_Ripe', 'Guava_Raw', 'Apple_Ripe', 'Mango_Raw', 'Papaya_Ripe', 'Banana_Ripe', 'Orange_Raw', 'Pomengranate_Raw', 'Papaya_Ripe', 'Pomengranate_Raw', 'Apple_Ripe', 'Mango_Ripe', 'Apple_Raw', 'Leeche_Raw', 'Orange_Raw', 'Banana_Ripe', 'Pomengranate_Raw', 'Orange_Raw', 'Orange_Ripe', 'Pomengranate_Raw', 'Coconut_Ripe', 'Orange_Ripe', 'Apple_Ripe', 'Apple_Raw', 'Mango_Ripe', 'Apple_Ripe', 'Strawberry_Ripe', 'Coconut_Raw', 'Strawberry_Raw', 'Strawberry_Raw', 'Mango_Ripe', 'Mango_Ripe', 'Coconut_Ripe', 'Strawberry_Raw', 'Mango_Ripe', 'Pomengranate_Ripe', 'Guava_Raw', 'Leeche_Ripe', 'Papaya_Ripe', 'Coconut_Ripe', 'Apple_Raw', 'Guava_Raw', 'Orange_Ripe', 'Orange_Ripe', 'Apple_Ripe', 'Mango_Ripe', 'Strawberry_Ripe', 'Coconut_Ripe', 'Papaya_Raw', 'Strawberry_Raw', 'Papaya_Raw', 'Strawberry_Raw', 'Leeche_Raw', 'Banana_Raw', 'Coconut_Raw', 'Mango_Ripe', 'Apple_Ripe', 'Coconut_Raw', 'Mango_Raw', 'Mango_Raw', 'Orange_Raw', 'Strawberry_Raw', 'Guava_Ripe', 'Pomengranate_Raw', 'Banana_Ripe', 'Apple_Ripe', 'Pomengranate_Raw', 'Mango_Ripe', 'Leeche_Raw', 'Strawberry_Ripe', 'Pomengranate_Ripe', 'Mango_Raw', 'Pomengranate_Raw', 'Strawberry_Ripe', 'Orange_Ripe', 'Orange_Ripe', 'Strawberry_Raw', 'Coconut_Ripe', 'Papaya_Raw', 'Leeche_Ripe', 'Banana_Ripe', 'Mango_Raw', 'Mango_Ripe', 'Mango_Ripe', 'Apple_Raw', 'Apple_Raw', 'Orange_Raw', 'Banana_Raw', 'Leeche_Ripe', 'Apple_Ripe', 'Banana_Ripe', 'Guava_Ripe', 'Mango_Raw', 'Pomengranate_Ripe', 'Coconut_Raw', 'Pomengranate_Raw', 'Strawberry_Raw', 'Banana_Ripe', 'Coconut_Ripe', 'Banana_Ripe', 'Papaya_Raw', 'Leeche_Ripe', 'Banana_Ripe', 'Banana_Ripe', 'Leeche_Ripe', 'Mango_Ripe', 'Guava_Raw', 'Guava_Ripe', 'Mango_Ripe', 'Coconut_Raw', 'Apple_Ripe', 'Orange_Raw', 'Banana_Raw', 'Apple_Ripe', 'Banana_Raw', 'Papaya_Raw', 'Strawberry_Ripe', 'Strawberry_Ripe', 'Apple_Raw', 'Leeche_Ripe', 'Papaya_Ripe', 'Guava_Raw', 'Banana_Raw', 'Leeche_Raw', 'Banana_Ripe', 'Banana_Ripe', 'Leeche_Ripe', 'Strawberry_Ripe', 'Strawberry_Raw', 'Pomengranate_Ripe', 'Strawberry_Ripe', 'Pomengranate_Ripe', 'Banana_Raw', 'Mango_Raw', 'Orange_Raw', 'Strawberry_Raw', 'Apple_Ripe', 'Orange_Raw', 'Coconut_Ripe', 'Coconut_Ripe', 'Guava_Ripe', 'Mango_Ripe', 'Apple_Ripe', 'Strawberry_Ripe', 'Pomengranate_Raw', 'Strawberry_Ripe', 'Strawberry_Raw', 'Mango_Raw', 'Papaya_Ripe', 'Strawberry_Ripe', 'Papaya_Raw', 'Coconut_Ripe', 'Guava_Raw', 'Pomengranate_Raw', 'Mango_Ripe', 'Mango_Ripe', 'Guava_Ripe', 'Orange_Raw', 'Coconut_Ripe', 'Apple_Ripe', 'Leeche_Raw', 'Mango_Raw', 'Banana_Ripe', 'Apple_Ripe', 'Banana_Ripe', 'Guava_Raw', 'Papaya_Raw', 'Orange_Raw', 'Banana_Ripe', 'Leeche_Ripe', 'Orange_Raw', 'Apple_Ripe', 'Leeche_Ripe', 'Guava_Ripe', 'Orange_Raw', 'Banana_Raw', 'Orange_Ripe', 'Coconut_Ripe', 'Leeche_Ripe', 'Orange_Raw', 'Apple_Raw', 'Pomengranate_Raw', 'Mango_Raw', 'Mango_Raw', 'Banana_Ripe', 'Orange_Ripe', 'Coconut_Ripe', 'Papaya_Ripe', 'Leeche_Raw', 'Papaya_Raw', 'Apple_Ripe', 'Orange_Raw', 'Coconut_Raw', 'Apple_Ripe', 'Banana_Ripe', 'Strawberry_Ripe', 'Pomengranate_Raw', 'Leeche_Ripe', 'Apple_Ripe', 'Banana_Ripe', 'Strawberry_Ripe', 'Apple_Ripe', 'Apple_Raw', 'Papaya_Ripe', 'Papaya_Ripe', 'Leeche_Ripe', 'Strawberry_Ripe', 'Banana_Raw', 'Apple_Raw', 'Mango_Ripe', 'Papaya_Raw', 'Mango_Raw', 'Guava_Ripe', 'Strawberry_Ripe', 'Strawberry_Ripe', 'Coconut_Raw', 'Apple_Raw', 'Leeche_Ripe', 'Pomengranate_Raw', 'Guava_Ripe', 'Guava_Raw', 'Leeche_Raw', 'Pomengranate_Ripe', 'Pomengranate_Ripe', 'Strawberry_Ripe', 'Banana_Ripe', 'Apple_Ripe', 'Mango_Raw', 'Leeche_Ripe', 'Pomengranate_Raw', 'Guava_Ripe', 'Guava_Ripe', 'Mango_Raw', 'Guava_Ripe', 'Strawberry_Ripe', 'Papaya_Ripe', 'Guava_Ripe', 'Pomengranate_Ripe', 'Papaya_Raw', 'Strawberry_Raw', 'Strawberry_Raw', 'Guava_Raw', 'Strawberry_Raw', 'Pomengranate_Ripe', 'Leeche_Ripe', 'Orange_Ripe', 'Guava_Raw', 'Leeche_Ripe', 'Coconut_Raw', 'Orange_Raw', 'Pomengranate_Ripe', 'Coconut_Ripe', 'Pomengranate_Ripe', 'Coconut_Raw', 'Strawberry_Ripe', 'Pomengranate_Raw', 'Leeche_Raw', 'Apple_Raw', 'Mango_Raw', 'Apple_Raw', 'Apple_Raw', 'Papaya_Ripe', 'Banana_Raw', 'Papaya_Raw', 'Banana_Raw', 'Leeche_Ripe', 'Pomengranate_Ripe', 'Coconut_Raw', 'Mango_Ripe', 'Pomengranate_Raw', 'Papaya_Raw', 'Guava_Ripe', 'Strawberry_Ripe', 'Orange_Raw', 'Coconut_Ripe', 'Strawberry_Raw', 'Pomengranate_Raw', 'Pomengranate_Raw', 'Pomengranate_Raw', 'Leeche_Ripe', 'Apple_Raw', 'Apple_Raw', 'Orange_Raw', 'Pomengranate_Raw', 'Leeche_Ripe', 'Pomengranate_Ripe', 'Strawberry_Ripe', 'Banana_Raw', 'Orange_Raw', 'Guava_Raw', 'Mango_Ripe', 'Coconut_Ripe', 'Papaya_Ripe', 'Papaya_Raw', 'Coconut_Ripe', 'Apple_Raw', 'Banana_Ripe', 'Mango_Ripe', 'Mango_Raw', 'Coconut_Raw', 'Guava_Raw', 'Pomengranate_Raw', 'Leeche_Ripe', 'Banana_Raw', 'Orange_Raw', 'Orange_Ripe', 'Banana_Raw', 'Banana_Raw', 'Mango_Ripe', 'Apple_Ripe', 'Guava_Raw', 'Banana_Ripe', 'Leeche_Raw', 'Banana_Raw', 'Papaya_Ripe', 'Pomengranate_Raw', 'Apple_Ripe', 'Papaya_Raw', 'Orange_Ripe', 'Apple_Ripe', 'Leeche_Raw', 'Pomengranate_Ripe', 'Strawberry_Ripe', 'Coconut_Ripe', 'Banana_Ripe', 'Mango_Raw', 'Mango_Raw', 'Orange_Ripe', 'Apple_Ripe', 'Banana_Ripe', 'Mango_Raw', 'Strawberry_Raw']\n"
     ]
    }
   ],
   "source": [
    "C = []\n",
    "for i in A:\n",
    "    C.append(statistics.mode(i))\n",
    "# print(C)"
   ]
  },
  {
   "cell_type": "code",
   "execution_count": 109,
   "metadata": {},
   "outputs": [],
   "source": [
    "# Features_Train, Features_Validation, Labels_Train, Labels_Validation = train_test_split(Features, Labels, test_size=0.1, random_state=42) "
   ]
  },
  {
   "cell_type": "code",
   "execution_count": 110,
   "metadata": {},
   "outputs": [],
   "source": [
    "\n",
    "# # acc = []  \n",
    "# # for i in range(1, 1000):\n",
    "# pca = PCA(n_components=328)\n",
    "# Features_Train_PCA = pca.fit_transform(X_train_lof)\n",
    "        \n",
    "# lda = LinearDiscriminantAnalysis(n_components=1)\n",
    "# X_train = lda.fit_transform(Features_Train_PCA, L_train)\n",
    "# predict = lda.predict(pca.transform(Features_Validation))\n",
    "# print(i, accuracy_score(Labels_Validation, predict))\n",
    "# # acc.append(accuracy_score(Labels_Validation, predict))"
   ]
  },
  {
   "cell_type": "code",
   "execution_count": 111,
   "metadata": {},
   "outputs": [],
   "source": [
    "# predict = lda.predict(pca.transform(Features_Test))\n",
    "predict = C\n",
    "L = []\n",
    "for i in range(len(predict)):\n",
    "    L.append([i, predict[i]])"
   ]
  },
  {
   "cell_type": "code",
   "execution_count": 112,
   "metadata": {},
   "outputs": [],
   "source": [
    "fields = ['ID', 'Category']\n",
    "with open('submission2.csv', 'w', newline='') as csvFile:\n",
    "    csvwriter = csv.writer(csvFile)\n",
    "    csvwriter.writerow(fields)\n",
    "    csvwriter.writerows(L)"
   ]
  },
  {
   "cell_type": "code",
   "execution_count": 113,
   "metadata": {},
   "outputs": [],
   "source": [
    "# print(accuracy[np.argmax(accuracy)], components[np.argmax(accuracy)])"
   ]
  }
 ],
 "metadata": {
  "kernelspec": {
   "display_name": "Python 3",
   "language": "python",
   "name": "python3"
  },
  "language_info": {
   "codemirror_mode": {
    "name": "ipython",
    "version": 3
   },
   "file_extension": ".py",
   "mimetype": "text/x-python",
   "name": "python",
   "nbconvert_exporter": "python",
   "pygments_lexer": "ipython3",
   "version": "3.10.1"
  },
  "orig_nbformat": 4
 },
 "nbformat": 4,
 "nbformat_minor": 2
}
