{
 "cells": [
  {
   "cell_type": "code",
   "execution_count": 1193,
   "metadata": {},
   "outputs": [],
   "source": [
    "import csv\n",
    "import numpy as np\n",
    "from sklearn.model_selection import train_test_split\n",
    "from sklearn.linear_model import LogisticRegression\n",
    "from sklearn.metrics import accuracy_score\n",
    "from sklearn.discriminant_analysis import LinearDiscriminantAnalysis\n",
    "from sklearn.decomposition import PCA\n",
    "from sklearn.neighbors import LocalOutlierFactor\n",
    "from sklearn.model_selection import KFold\n",
    "from sklearn.cluster import KMeans\n",
    "import statistics"
   ]
  },
  {
   "cell_type": "code",
   "execution_count": 1194,
   "metadata": {},
   "outputs": [],
   "source": [
    "# Loading Data from Train Dataset\n",
    "Features, Labels = [], []\n",
    "with open ('train.csv', mode='r') as file:\n",
    "    csvFile = csv.reader(file)\n",
    "    data = list(csvFile)\n",
    "    data = data[1:]\n",
    "    for data_point in data:\n",
    "        Features.append(np.array([float(x) for x in data_point[1:-1]]))\n",
    "        Labels.append(data_point[-1])\n",
    "Features = np.array(Features)"
   ]
  },
  {
   "cell_type": "code",
   "execution_count": 1195,
   "metadata": {},
   "outputs": [],
   "source": [
    "# Loading Data from Test Dataset\n",
    "Features_Test = []\n",
    "with open ('test.csv', mode='r') as file:\n",
    "    csvFile = csv.reader(file)\n",
    "    data = list(csvFile)\n",
    "    data = data[1:]\n",
    "    for data_point in data:\n",
    "        Features_Test.append(np.array([float(x) for x in data_point[1:]]))\n",
    "Features_Test = np.array(Features_Test)"
   ]
  },
  {
   "cell_type": "code",
   "execution_count": 1196,
   "metadata": {},
   "outputs": [],
   "source": [
    "lof = LocalOutlierFactor(n_neighbors=5)\n",
    "outlier = lof.fit_predict(Features)\n",
    "Features_LOF = []\n",
    "Labels_LOF = []\n",
    "for i in range(len(outlier)):\n",
    "    if(outlier[i]!=-1):\n",
    "        Features_LOF.append(Features[i])\n",
    "        Labels_LOF.append(Labels[i])"
   ]
  },
  {
   "cell_type": "code",
   "execution_count": 1197,
   "metadata": {},
   "outputs": [],
   "source": [
    "Features_Train, Features_Validation, Labels_Train, Labels_Validation = train_test_split(Features_LOF, Labels_LOF, test_size=0.1, random_state=42) "
   ]
  },
  {
   "cell_type": "code",
   "execution_count": 1198,
   "metadata": {},
   "outputs": [],
   "source": [
    "pca = PCA(n_components=105)\n",
    "Features_Train_PCA = pca.fit_transform(Features_Train)\n",
    "Features_Validation_PCA = pca.transform(Features_Validation)"
   ]
  },
  {
   "cell_type": "code",
   "execution_count": 1199,
   "metadata": {},
   "outputs": [
    {
     "name": "stderr",
     "output_type": "stream",
     "text": [
      "c:\\Users\\Lenovo\\AppData\\Local\\Programs\\Python\\Python310\\lib\\site-packages\\sklearn\\cluster\\_kmeans.py:870: FutureWarning: The default value of `n_init` will change from 10 to 'auto' in 1.4. Set the value of `n_init` explicitly to suppress the warning\n",
      "  warnings.warn(\n"
     ]
    }
   ],
   "source": [
    "kmeans = KMeans(n_clusters=20).fit(Features_Train_PCA)\n",
    "Cluster_ID_Train = kmeans.labels_\n",
    "Cluster_ID_Validation = kmeans.predict(Features_Validation_PCA)"
   ]
  },
  {
   "cell_type": "code",
   "execution_count": 1200,
   "metadata": {},
   "outputs": [],
   "source": [
    "Features_Train_PCA_Kmeans, Features_Validation_PCA_Kmeans = [], []\n",
    "for i in range(len(Features_Train_PCA)):\n",
    "    Features_Train_PCA_Kmeans.append(np.ndarray.tolist(Features_Train_PCA[i]) + [Cluster_ID_Train[i]])\n",
    "for i in range(len(Features_Validation_PCA)):\n",
    "    Features_Validation_PCA_Kmeans.append(np.ndarray.tolist(Features_Validation_PCA[i]) + [Cluster_ID_Validation[i]])"
   ]
  },
  {
   "cell_type": "code",
   "execution_count": 1201,
   "metadata": {},
   "outputs": [],
   "source": [
    "# lda1 = LinearDiscriminantAnalysis()\n",
    "# Features_Train_PCA_LDA = lda1.fit_transform(Features_Train_PCA, Labels_Train) \n",
    "# Features_Validation_PCA_LDA = lda1.transform(Features_Validation_PCA)"
   ]
  },
  {
   "cell_type": "code",
   "execution_count": 1202,
   "metadata": {},
   "outputs": [
    {
     "name": "stdout",
     "output_type": "stream",
     "text": [
      "0.8181818181818182\n"
     ]
    },
    {
     "name": "stderr",
     "output_type": "stream",
     "text": [
      "c:\\Users\\Lenovo\\AppData\\Local\\Programs\\Python\\Python310\\lib\\site-packages\\sklearn\\linear_model\\_logistic.py:458: ConvergenceWarning: lbfgs failed to converge (status=1):\n",
      "STOP: TOTAL NO. of ITERATIONS REACHED LIMIT.\n",
      "\n",
      "Increase the number of iterations (max_iter) or scale the data as shown in:\n",
      "    https://scikit-learn.org/stable/modules/preprocessing.html\n",
      "Please also refer to the documentation for alternative solver options:\n",
      "    https://scikit-learn.org/stable/modules/linear_model.html#logistic-regression\n",
      "  n_iter_i = _check_optimize_result(\n"
     ]
    }
   ],
   "source": [
    "logistic = LogisticRegression()\n",
    "logistic.fit(Features_Train_PCA_Kmeans, Labels_Train)\n",
    "predict = logistic.predict(Features_Validation_PCA_Kmeans)\n",
    "print(accuracy_score(Labels_Validation, predict))"
   ]
  },
  {
   "cell_type": "code",
   "execution_count": 1203,
   "metadata": {},
   "outputs": [],
   "source": [
    "# Features_Train_PCA_LDA_Kmeans, Features_Validation_PCA_LDA_Kmeans = [], []\n",
    "# for i in range(len(Features_Train_PCA_LDA)):\n",
    "#     Features_Train_PCA_LDA_Kmeans.append(np.ndarray.tolist(Features_Train_PCA_LDA[i]) + [Cluster_ID_Train[i]])\n",
    "# for i in range(len(Features_Validation_PCA_LDA)):\n",
    "#     Features_Validation_PCA_LDA_Kmeans.append(np.ndarray.tolist(Features_Validation_PCA_LDA[i]) + [Cluster_ID_Validation[i]])"
   ]
  },
  {
   "cell_type": "code",
   "execution_count": 1204,
   "metadata": {},
   "outputs": [],
   "source": [
    "# lda2 = LinearDiscriminantAnalysis()\n",
    "# lda2.fit(Features_Train_PCA_LDA_Kmeans, Labels_Train)\n",
    "# predict = lda2.predict(Features_Validation_PCA_LDA_Kmeans)\n",
    "# print(accuracy_score(Labels_Validation, predict)) "
   ]
  },
  {
   "cell_type": "code",
   "execution_count": 1205,
   "metadata": {},
   "outputs": [],
   "source": [
    "# Features_Test_PCA = pca.transform(Features_Test)\n",
    "# Cluster_ID_Test = kmeans.predict(Features_Test_PCA)\n",
    "# Features_Test_PCA_LDA = lda1.transform(Features_Test_PCA)\n",
    "# Features_Test_PCA_LDA_Kmeans = []\n",
    "# for i in range(len(Features_Test_PCA_LDA)):\n",
    "#     Features_Test_PCA_LDA_Kmeans.append(np.ndarray.tolist(Features_Test_PCA_LDA[i]) + [Cluster_ID_Test[i]])\n",
    "# predict = lda2.predict(Features_Test_PCA_LDA_Kmeans)"
   ]
  },
  {
   "cell_type": "code",
   "execution_count": 1206,
   "metadata": {},
   "outputs": [],
   "source": [
    "# L = []\n",
    "# for i in range(len(predict)):\n",
    "#     L.append([i, predict[i]])"
   ]
  },
  {
   "cell_type": "code",
   "execution_count": 1207,
   "metadata": {},
   "outputs": [],
   "source": [
    "# fields = ['ID', 'Category']\n",
    "# with open('submission14.csv', 'w', newline='') as csvFile:\n",
    "#     csvwriter = csv.writer(csvFile)\n",
    "#     csvwriter.writerow(fields)\n",
    "#     csvwriter.writerows(L)"
   ]
  },
  {
   "cell_type": "code",
   "execution_count": 1208,
   "metadata": {},
   "outputs": [],
   "source": [
    "# print(accuracy[np.argmax(accuracy)], components[np.argmax(accuracy)])"
   ]
  }
 ],
 "metadata": {
  "kernelspec": {
   "display_name": "Python 3",
   "language": "python",
   "name": "python3"
  },
  "language_info": {
   "codemirror_mode": {
    "name": "ipython",
    "version": 3
   },
   "file_extension": ".py",
   "mimetype": "text/x-python",
   "name": "python",
   "nbconvert_exporter": "python",
   "pygments_lexer": "ipython3",
   "version": "3.10.1"
  },
  "orig_nbformat": 4
 },
 "nbformat": 4,
 "nbformat_minor": 2
}
