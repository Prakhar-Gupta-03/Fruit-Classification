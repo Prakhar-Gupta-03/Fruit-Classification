{
 "cells": [
  {
   "cell_type": "code",
   "execution_count": 27,
   "metadata": {},
   "outputs": [],
   "source": [
    "import csv\n",
    "import numpy as np\n",
    "from sklearn.model_selection import train_test_split\n",
    "from sklearn.linear_model import LogisticRegression\n",
    "from sklearn.metrics import accuracy_score"
   ]
  },
  {
   "cell_type": "code",
   "execution_count": 28,
   "metadata": {},
   "outputs": [],
   "source": [
    "# Loading Data from Train Dataset\n",
    "Features, Labels = [], []\n",
    "with open ('train.csv', mode='r') as file:\n",
    "    csvFile = csv.reader(file)\n",
    "    data = list(csvFile)\n",
    "    data = data[1:]\n",
    "    for data_point in data:\n",
    "        Features.append(np.array([float(x) for x in data_point[1:-1]]))\n",
    "        Labels.append(data_point[-1])\n",
    "Features = np.array(Features)"
   ]
  },
  {
   "cell_type": "code",
   "execution_count": 29,
   "metadata": {},
   "outputs": [],
   "source": [
    "# Loading Data from Test Dataset\n",
    "Features_Test = []\n",
    "with open ('test.csv', mode='r') as file:\n",
    "    csvFile = csv.reader(file)\n",
    "    data = list(csvFile)\n",
    "    data = data[1:]\n",
    "    for data_point in data:\n",
    "        Features_Test.append(np.array([float(x) for x in data_point[1:]]))\n",
    "Features_Test = np.array(Features_Test)"
   ]
  },
  {
   "cell_type": "code",
   "execution_count": 30,
   "metadata": {},
   "outputs": [],
   "source": [
    "Features_Train, Features_Validation, Labels_Train, Labels_Validation = train_test_split(Features, Labels, test_size=0.1, random_state=42) "
   ]
  },
  {
   "cell_type": "code",
   "execution_count": 31,
   "metadata": {},
   "outputs": [
    {
     "name": "stderr",
     "output_type": "stream",
     "text": [
      "c:\\Users\\Lenovo\\AppData\\Local\\Programs\\Python\\Python310\\lib\\site-packages\\sklearn\\linear_model\\_logistic.py:458: ConvergenceWarning: lbfgs failed to converge (status=1):\n",
      "STOP: TOTAL NO. of ITERATIONS REACHED LIMIT.\n",
      "\n",
      "Increase the number of iterations (max_iter) or scale the data as shown in:\n",
      "    https://scikit-learn.org/stable/modules/preprocessing.html\n",
      "Please also refer to the documentation for alternative solver options:\n",
      "    https://scikit-learn.org/stable/modules/linear_model.html#logistic-regression\n",
      "  n_iter_i = _check_optimize_result(\n"
     ]
    }
   ],
   "source": [
    "clf = LogisticRegression()\n",
    "clf.fit(Features_Train, Labels_Train)\n",
    "predict = clf.predict(Features_Test)\n",
    "# print(accuracy_score(Labels_Validation, predict))"
   ]
  },
  {
   "cell_type": "code",
   "execution_count": 32,
   "metadata": {},
   "outputs": [],
   "source": [
    "L = []\n",
    "for i in range(len(predict)):\n",
    "    L.append([i, predict[i]])"
   ]
  },
  {
   "cell_type": "code",
   "execution_count": 33,
   "metadata": {},
   "outputs": [],
   "source": [
    "fields = ['ID', 'Category']\n",
    "with open('submission.csv', 'w', newline='') as csvFile:\n",
    "    csvwriter = csv.writer(csvFile)\n",
    "    csvwriter.writerow(fields)\n",
    "    csvwriter.writerows(L)"
   ]
  },
  {
   "cell_type": "code",
   "execution_count": 34,
   "metadata": {},
   "outputs": [],
   "source": [
    "# print(accuracy[np.argmax(accuracy)], components[np.argmax(accuracy)])"
   ]
  }
 ],
 "metadata": {
  "kernelspec": {
   "display_name": "Python 3",
   "language": "python",
   "name": "python3"
  },
  "language_info": {
   "codemirror_mode": {
    "name": "ipython",
    "version": 3
   },
   "file_extension": ".py",
   "mimetype": "text/x-python",
   "name": "python",
   "nbconvert_exporter": "python",
   "pygments_lexer": "ipython3",
   "version": "3.10.1"
  },
  "orig_nbformat": 4
 },
 "nbformat": 4,
 "nbformat_minor": 2
}
