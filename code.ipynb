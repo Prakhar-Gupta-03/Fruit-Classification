{
 "cells": [
  {
   "cell_type": "code",
   "execution_count": 18,
   "metadata": {},
   "outputs": [],
   "source": [
    "import csv\n",
    "import numpy as np\n",
    "from sklearn.model_selection import train_test_split\n",
    "from sklearn.linear_model import LogisticRegression\n",
    "from sklearn.metrics import accuracy_score\n",
    "from sklearn.discriminant_analysis import LinearDiscriminantAnalysis\n",
    "from sklearn.decomposition import PCA"
   ]
  },
  {
   "cell_type": "code",
   "execution_count": 19,
   "metadata": {},
   "outputs": [],
   "source": [
    "# Loading Data from Train Dataset\n",
    "Features, Labels = [], []\n",
    "with open ('train.csv', mode='r') as file:\n",
    "    csvFile = csv.reader(file)\n",
    "    data = list(csvFile)\n",
    "    data = data[1:]\n",
    "    for data_point in data:\n",
    "        Features.append(np.array([float(x) for x in data_point[1:-1]]))\n",
    "        Labels.append(data_point[-1])\n",
    "Features = np.array(Features)"
   ]
  },
  {
   "cell_type": "code",
   "execution_count": 20,
   "metadata": {},
   "outputs": [],
   "source": [
    "# Loading Data from Test Dataset\n",
    "Features_Test = []\n",
    "with open ('test.csv', mode='r') as file:\n",
    "    csvFile = csv.reader(file)\n",
    "    data = list(csvFile)\n",
    "    data = data[1:]\n",
    "    for data_point in data:\n",
    "        Features_Test.append(np.array([float(x) for x in data_point[1:]]))\n",
    "Features_Test = np.array(Features_Test)"
   ]
  },
  {
   "cell_type": "code",
   "execution_count": 21,
   "metadata": {},
   "outputs": [],
   "source": [
    "Features_Train, Features_Validation, Labels_Train, Labels_Validation = train_test_split(Features, Labels, test_size=0.1, random_state=42) "
   ]
  },
  {
   "cell_type": "code",
   "execution_count": 22,
   "metadata": {},
   "outputs": [
    {
     "name": "stdout",
     "output_type": "stream",
     "text": [
      "0.8114754098360656\n"
     ]
    },
    {
     "name": "stderr",
     "output_type": "stream",
     "text": [
      "c:\\Users\\Lenovo\\AppData\\Local\\Programs\\Python\\Python310\\lib\\site-packages\\sklearn\\linear_model\\_logistic.py:458: ConvergenceWarning: lbfgs failed to converge (status=1):\n",
      "STOP: TOTAL NO. of ITERATIONS REACHED LIMIT.\n",
      "\n",
      "Increase the number of iterations (max_iter) or scale the data as shown in:\n",
      "    https://scikit-learn.org/stable/modules/preprocessing.html\n",
      "Please also refer to the documentation for alternative solver options:\n",
      "    https://scikit-learn.org/stable/modules/linear_model.html#logistic-regression\n",
      "  n_iter_i = _check_optimize_result(\n"
     ]
    }
   ],
   "source": [
    "# lda = LinearDiscriminantAnalysis(solver='eigen', n_components=2)\n",
    "# Features_Train_LDA = lda.fit_transform(Features_Train, Labels_Train)\n",
    "acc = []\n",
    "# for components in range(1, 1000):\n",
    "#     pca = PCA(n_components=components)\n",
    "#     Features_Train_PCA = pca.fit_transform(Features_Train)\n",
    "#     clf = LogisticRegression()\n",
    "#     clf.fit(Features_Train_PCA, Labels_Train)\n",
    "#     # Features_Validation_LDA = lda.transform(Features_Validation)\n",
    "#     predict = clf.predict(pca.transform(Features_Validation))\n",
    "#     print(accuracy_score(Labels_Validation, predict))\n",
    "#     acc.append(accuracy_score(Labels_Validation, predict))\n",
    "\n",
    "pca = PCA(n_components=115)\n",
    "Features_Train_PCA = pca.fit_transform(Features_Train)\n",
    "clf = LogisticRegression()\n",
    "clf.fit(Features_Train_PCA, Labels_Train)\n",
    "    # Features_Validation_LDA = lda.transform(Features_Validation)\n",
    "predict = clf.predict(pca.transform(Features_Validation))\n",
    "print(accuracy_score(Labels_Validation, predict))\n",
    "acc.append(accuracy_score(Labels_Validation, predict))\n"
   ]
  },
  {
   "cell_type": "code",
   "execution_count": 7,
   "metadata": {},
   "outputs": [
    {
     "name": "stdout",
     "output_type": "stream",
     "text": [
      "115\n",
      "0.819672131147541\n"
     ]
    }
   ],
   "source": [
    "print(np.argmax(acc))\n",
    "print(acc[115])"
   ]
  },
  {
   "cell_type": "code",
   "execution_count": 23,
   "metadata": {},
   "outputs": [],
   "source": [
    "predict = clf.predict(pca.transform(Features_Test))\n",
    "L = []\n",
    "for i in range(len(predict)):\n",
    "    L.append([i, predict[i]])"
   ]
  },
  {
   "cell_type": "code",
   "execution_count": null,
   "metadata": {},
   "outputs": [],
   "source": [
    "fields = ['ID', 'Category']\n",
    "with open('submission.csv', 'w', newline='') as csvFile:\n",
    "    csvwriter = csv.writer(csvFile)\n",
    "    csvwriter.writerow(fields)\n",
    "    csvwriter.writerows(L)"
   ]
  },
  {
   "cell_type": "code",
   "execution_count": null,
   "metadata": {},
   "outputs": [],
   "source": [
    "# print(accuracy[np.argmax(accuracy)], components[np.argmax(accuracy)])"
   ]
  }
 ],
 "metadata": {
  "kernelspec": {
   "display_name": "Python 3",
   "language": "python",
   "name": "python3"
  },
  "language_info": {
   "codemirror_mode": {
    "name": "ipython",
    "version": 3
   },
   "file_extension": ".py",
   "mimetype": "text/x-python",
   "name": "python",
   "nbconvert_exporter": "python",
   "pygments_lexer": "ipython3",
   "version": "3.10.1"
  },
  "orig_nbformat": 4
 },
 "nbformat": 4,
 "nbformat_minor": 2
}
