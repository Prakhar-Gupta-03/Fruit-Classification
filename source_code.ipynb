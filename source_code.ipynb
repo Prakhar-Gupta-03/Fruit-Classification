{
 "cells": [
  {
   "cell_type": "code",
   "execution_count": 40,
   "metadata": {},
   "outputs": [
    {
     "data": {
      "text/plain": [
       "<module 'module' from 'f:\\\\Semester 4 IIITD\\\\SML\\\\Project\\\\module.py'>"
      ]
     },
     "execution_count": 40,
     "metadata": {},
     "output_type": "execute_result"
    }
   ],
   "source": [
    "import helper as module\n",
    "import importlib\n",
    "import sys\n",
    "importlib.reload(sys.modules['module'])"
   ]
  },
  {
   "cell_type": "code",
   "execution_count": 41,
   "metadata": {},
   "outputs": [],
   "source": [
    "Features_Train, Labels_Train = module.load_data('train.csv', True)"
   ]
  },
  {
   "cell_type": "code",
   "execution_count": 42,
   "metadata": {},
   "outputs": [],
   "source": [
    "Features_Test = module.load_data('test.csv', False)"
   ]
  },
  {
   "cell_type": "code",
   "execution_count": 43,
   "metadata": {},
   "outputs": [],
   "source": [
    "Features_Train, Labels_Train = module.LOF(num_neighbors=5, Features=Features_Train, Labels=Labels_Train)"
   ]
  },
  {
   "cell_type": "code",
   "execution_count": 44,
   "metadata": {},
   "outputs": [
    {
     "name": "stdout",
     "output_type": "stream",
     "text": [
      "Cross Validation Score :  0.8024724517906335\n"
     ]
    }
   ],
   "source": [
    "module.Cross_Validation_Score(max_itr=100000, Features=Features_Train, Labels=Labels_Train, n_splits=10)"
   ]
  },
  {
   "cell_type": "code",
   "execution_count": 45,
   "metadata": {},
   "outputs": [],
   "source": [
    "Features_Train, Features_Test = module.Pca(num_components=417, Features_Train=Features_Train, Features_Test=Features_Test)\n",
    "\n",
    "Features_Train, Features_Test = module.LDA(Features_Train, Labels_Train, Features_Test)\n",
    "\n",
    "Features_Train, Features_Test = module.Agglomerative(num_clusters=4, Features_Train=Features_Train, Features_Test=Features_Test)\n",
    "\n",
    "Labels_Test_Predicted = module.Logistic(max_itr=100000, Features_Train=Features_Train, Labels_Train=Labels_Train, Features_Test=Features_Test)"
   ]
  },
  {
   "cell_type": "code",
   "execution_count": null,
   "metadata": {},
   "outputs": [],
   "source": [
    "module.write_csv('result.csv', Labels_Test_Predicted)"
   ]
  }
 ],
 "metadata": {
  "kernelspec": {
   "display_name": "Python 3",
   "language": "python",
   "name": "python3"
  },
  "language_info": {
   "codemirror_mode": {
    "name": "ipython",
    "version": 3
   },
   "file_extension": ".py",
   "mimetype": "text/x-python",
   "name": "python",
   "nbconvert_exporter": "python",
   "pygments_lexer": "ipython3",
   "version": "3.10.1"
  },
  "orig_nbformat": 4
 },
 "nbformat": 4,
 "nbformat_minor": 2
}
