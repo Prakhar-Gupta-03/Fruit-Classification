{
 "cells": [
  {
   "cell_type": "code",
   "execution_count": 54,
   "metadata": {},
   "outputs": [],
   "source": [
    "import csv\n",
    "import numpy as np\n",
    "from sklearn.linear_model import LogisticRegression\n",
    "from sklearn.model_selection import train_test_split\n",
    "from sklearn.metrics import accuracy_score\n",
    "from sklearn.discriminant_analysis import LinearDiscriminantAnalysis\n",
    "from sklearn.discriminant_analysis import QuadraticDiscriminantAnalysis\n",
    "from sklearn.neighbors import KNeighborsClassifier\n",
    "from sklearn.decomposition import PCA\n",
    "from sklearn.preprocessing import StandardScaler\n",
    "from sklearn.ensemble import RandomForestClassifier, VotingClassifier, BaggingClassifier\n",
    "from sklearn.model_selection import cross_val_score\n",
    "from sklearn import preprocessing\n",
    "import matplotlib.pyplot as plt\n",
    "from sklearn.model_selection import StratifiedKFold\n",
    "from sklearn.cluster import KMeans\n",
    "from sklearn.cluster import AgglomerativeClustering\n",
    "from sklearn.cluster import DBSCAN\n",
    "from sklearn.cluster import MeanShift"
   ]
  },
  {
   "cell_type": "code",
   "execution_count": 55,
   "metadata": {},
   "outputs": [],
   "source": [
    "# Load data from the train data csv file\n",
    "Feature = []\n",
    "Label = []\n",
    "with open('data/train/train.csv', 'r') as f:\n",
    "    reader = csv.reader(f)\n",
    "    train_data = list(reader)\n",
    "    # remove the first row\n",
    "    train_data = train_data[1:]\n",
    "    for row in train_data:\n",
    "        Feature.append(np.array([float(x) for x in row[1:-1]]))\n",
    "        Label.append(row[-1])  \n",
    "Features = np.array(Feature)\n",
    "Labels = np.array(Label)"
   ]
  },
  {
   "cell_type": "code",
   "execution_count": 56,
   "metadata": {},
   "outputs": [],
   "source": [
    "# Load data from the test data csv file\n",
    "test_features = []\n",
    "with open('data/test/test.csv', 'r') as f:\n",
    "    reader = csv.reader(f)\n",
    "    test_data = list(reader)\n",
    "    # remove the first row\n",
    "    test_data = test_data[1:]\n",
    "    for row in test_data:\n",
    "        test_features.append(np.array([float(x) for x in row[1:]]))\n",
    "test_features = np.array(test_features)"
   ]
  },
  {
   "cell_type": "code",
   "execution_count": 57,
   "metadata": {},
   "outputs": [],
   "source": [
    "pca = PCA(n_components=415)\n",
    "pca.fit(Features)\n",
    "Features = pca.transform(Features)\n",
    "test_features = pca.transform(test_features)\n",
    "lda = LinearDiscriminantAnalysis()\n",
    "lda.fit(Features, Labels)\n",
    "Features = lda.transform(Features)\n",
    "test_features = lda.transform(test_features)"
   ]
  },
  {
   "cell_type": "code",
   "execution_count": 58,
   "metadata": {},
   "outputs": [],
   "source": [
    "# # implementing validation\n",
    "# epsilon = 0.1 \n",
    "# max_epsilon = 0\n",
    "# max_min_pts = 0\n",
    "# max_accuracy = 0\n",
    "# while (epsilon<5):\n",
    "#     for min_pts in range(17,25):\n",
    "#         X_train, X_test, y_train, y_test = train_test_split(Features, Labels, test_size=0.2, random_state=42, stratify=Labels)\n",
    "#         pca = PCA(n_components=415)\n",
    "#         pca.fit(X_train)\n",
    "#         X_train = pca.transform(X_train)\n",
    "#         X_test = pca.transform(X_test)\n",
    "#         lda = LinearDiscriminantAnalysis()\n",
    "#         lda.fit(X_train, y_train)\n",
    "#         X_train = lda.transform(X_train)\n",
    "#         X_test = lda.transform(X_test)\n",
    "#         clustering = DBSCAN(eps=epsilon, min_samples=min_pts)\n",
    "#         cluster_labels = clustering.fit_predict(X_train)\n",
    "#         cluster_labels = np.expand_dims(cluster_labels, axis=1)\n",
    "#         X_train = np.concatenate((X_train, cluster_labels), axis=1)\n",
    "#         cluster_labels = clustering.fit_predict(X_test)\n",
    "#         cluster_labels = np.expand_dims(cluster_labels, axis=1)\n",
    "#         X_test = np.concatenate((X_test, cluster_labels), axis=1)\n",
    "#         logreg = LogisticRegression(max_iter=10000)\n",
    "#         logreg.fit(X_train, y_train)\n",
    "#         y_pred = logreg.predict(X_test)\n",
    "#         print(\"epsilon: \", epsilon, \"min_pts: \", min_pts, \"accuracy: \", accuracy_score(y_test, y_pred))\n",
    "#         if accuracy_score(y_test, y_pred) > max_accuracy:\n",
    "#             max_accuracy = accuracy_score(y_test, y_pred)\n",
    "#             max_epsilon = epsilon\n",
    "#             max_min_pts = min_pts\n",
    "#     epsilon += 0.1\n"
   ]
  },
  {
   "cell_type": "code",
   "execution_count": 59,
   "metadata": {},
   "outputs": [],
   "source": [
    "# print(\"max_epsilon: \", max_epsilon, \"max_min_pts: \", max_min_pts, \"max_accuracy: \", max_accuracy)"
   ]
  },
  {
   "cell_type": "code",
   "execution_count": 60,
   "metadata": {},
   "outputs": [],
   "source": [
    "# implementing dbscan clustering\n",
    "clustering = DBSCAN(eps=0.5, min_samples=5)\n",
    "cluster_labels = clustering.fit_predict(Features)\n",
    "cluster_features = np.expand_dims(cluster_labels, axis=1)\n",
    "Features = np.concatenate((Features, cluster_features), axis=1)\n"
   ]
  },
  {
   "cell_type": "code",
   "execution_count": 63,
   "metadata": {},
   "outputs": [],
   "source": [
    "# implementing logistic regression\n",
    "logreg = LogisticRegression(max_iter=10000)\n",
    "logreg.fit(Features, Labels)\n",
    "cluster_labels = clustering.fit_predict(test_features)\n",
    "cluster_features = np.expand_dims(cluster_labels, axis=1)\n",
    "test_features = np.concatenate((test_features, cluster_features), axis=1)\n",
    "y_pred = logreg.predict(test_features)\n"
   ]
  },
  {
   "cell_type": "code",
   "execution_count": null,
   "metadata": {},
   "outputs": [],
   "source": [
    "with open('data/test/submission_65.csv', 'w', newline='') as f:\n",
    "    writer = csv.writer(f)\n",
    "    writer.writerow(['Id', 'Category'])\n",
    "    for i in range(len(y_pred)):\n",
    "        writer.writerow([i, y_pred[i]])"
   ]
  }
 ],
 "metadata": {
  "kernelspec": {
   "display_name": "Python 3",
   "language": "python",
   "name": "python3"
  },
  "language_info": {
   "codemirror_mode": {
    "name": "ipython",
    "version": 3
   },
   "file_extension": ".py",
   "mimetype": "text/x-python",
   "name": "python",
   "nbconvert_exporter": "python",
   "pygments_lexer": "ipython3",
   "version": "3.10.1"
  },
  "orig_nbformat": 4
 },
 "nbformat": 4,
 "nbformat_minor": 2
}
