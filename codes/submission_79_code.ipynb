{
 "cells": [
  {
   "cell_type": "code",
   "execution_count": 16,
   "metadata": {},
   "outputs": [],
   "source": [
    "import csv\n",
    "import numpy as np\n",
    "from sklearn.linear_model import LogisticRegression\n",
    "from sklearn.model_selection import train_test_split\n",
    "from sklearn.metrics import accuracy_score\n",
    "from sklearn.discriminant_analysis import LinearDiscriminantAnalysis\n",
    "from sklearn.discriminant_analysis import QuadraticDiscriminantAnalysis\n",
    "from sklearn.neighbors import KNeighborsClassifier\n",
    "from sklearn.decomposition import PCA\n",
    "from sklearn.preprocessing import StandardScaler\n",
    "from sklearn.ensemble import RandomForestClassifier, VotingClassifier, BaggingClassifier\n",
    "from sklearn.model_selection import cross_val_score\n",
    "from sklearn import preprocessing\n",
    "import matplotlib.pyplot as plt\n",
    "from sklearn.model_selection import StratifiedKFold\n",
    "from sklearn.cluster import KMeans\n",
    "from sklearn.cluster import AgglomerativeClustering\n",
    "from sklearn.cluster import DBSCAN\n",
    "from sklearn.cluster import MeanShift\n",
    "from sklearn.neighbors import LocalOutlierFactor"
   ]
  },
  {
   "cell_type": "code",
   "execution_count": 17,
   "metadata": {},
   "outputs": [],
   "source": [
    "# Load data from the train data csv file\n",
    "Feature = []\n",
    "Label = []\n",
    "with open('data/train/train.csv', 'r') as f:\n",
    "    reader = csv.reader(f)\n",
    "    train_data = list(reader)\n",
    "    # remove the first row\n",
    "    train_data = train_data[1:]\n",
    "    for row in train_data:\n",
    "        Feature.append(np.array([float(x) for x in row[1:-1]]))\n",
    "        Label.append(row[-1])  \n",
    "Features = np.array(Feature)\n",
    "Labels = np.array(Label)"
   ]
  },
  {
   "cell_type": "code",
   "execution_count": 18,
   "metadata": {},
   "outputs": [],
   "source": [
    "# Loading Data from Test Dataset\n",
    "test_features = []\n",
    "with open ('data/test/test.csv', mode='r') as file:\n",
    "    csvFile = csv.reader(file)\n",
    "    data = list(csvFile)\n",
    "    data = data[1:]\n",
    "    for data_point in data:\n",
    "        test_features.append(np.array([float(x) for x in data_point[1:]]))\n",
    "test_features = np.array(test_features)"
   ]
  },
  {
   "cell_type": "code",
   "execution_count": 19,
   "metadata": {},
   "outputs": [
    {
     "name": "stdout",
     "output_type": "stream",
     "text": [
      "1216 1216\n",
      "1205 1205\n"
     ]
    }
   ],
   "source": [
    "clf = LocalOutlierFactor(n_neighbors=5)\n",
    "predicted = clf.fit_predict(Features, Labels)\n",
    "f, l = [], []\n",
    "print(len(Features), len(Label))\n",
    "for i in range(len(Features)):\n",
    "    if(predicted[i]==1):\n",
    "        f.append(Features[i]) \n",
    "        l.append(Label[i])\n",
    "Features = f\n",
    "Labels = l\n",
    "print(len(Features), len(Labels)) "
   ]
  },
  {
   "cell_type": "code",
   "execution_count": 20,
   "metadata": {},
   "outputs": [],
   "source": [
    "for comp in [417]:\n",
    "\n",
    "    pca = PCA(n_components=comp, random_state=42)\n",
    "    Features_Train = pca.fit_transform(Features)\n",
    "    Features_Test = pca.transform(test_features)\n",
    "    \n",
    "    lda = LinearDiscriminantAnalysis()\n",
    "    Features_Train_LDA = lda.fit_transform(Features_Train, Labels)\n",
    "    # Features_Validation_LDA = lda.transform(Features_Validation_PCA)\n",
    "    Features_Test_LDA = lda.transform(Features_Test)\n",
    "\n",
    "    agglomerative = AgglomerativeClustering(n_clusters=5)\n",
    "    \n",
    "    cluster_labels_Train = agglomerative.fit_predict(Features_Train)\n",
    "    new_features_Train = np.expand_dims(cluster_labels_Train, axis=1)\n",
    "    new_features_Train = np.concatenate((Features_Train_LDA, new_features_Train), axis=1)\n",
    "\n",
    "    # agglomerative_Validation = agglomerative.fit_predict(Features_Validation)\n",
    "    # new_features_Validation = np.expand_dims(agglomerative_Validation, axis=1)\n",
    "    # new_features_Validation = np.concatenate((Features_Validation_LDA, new_features_Validation), axis=1)\n",
    "    \n",
    "    agglomerative_test = agglomerative.fit_predict(Features_Test_LDA)\n",
    "    new_test_features = np.expand_dims(agglomerative_test, axis=1)\n",
    "    new_test_features = np.concatenate((Features_Test_LDA, new_test_features), axis=1)\n",
    "    # implementing logistic regression\n",
    "    logreg = LogisticRegression(max_iter = 100000, random_state=42)\n",
    "    logreg.fit(new_features_Train, Labels)\n",
    "    y_pred = logreg.predict(new_test_features)\n",
    "\n",
    "    # print(comp, accuracy_score(Labels_Validation, logreg.predict(new_features_Validation)))"
   ]
  },
  {
   "cell_type": "code",
   "execution_count": null,
   "metadata": {},
   "outputs": [],
   "source": [
    "with open('data/test/submission79_results.csv', 'w', newline='') as f:\n",
    "    writer = csv.writer(f)\n",
    "    writer.writerow(['Id', 'Category'])\n",
    "    for i in range(len(y_pred)):\n",
    "        writer.writerow([i, y_pred[i]])"
   ]
  }
 ],
 "metadata": {
  "kernelspec": {
   "display_name": "Python 3",
   "language": "python",
   "name": "python3"
  },
  "language_info": {
   "codemirror_mode": {
    "name": "ipython",
    "version": 3
   },
   "file_extension": ".py",
   "mimetype": "text/x-python",
   "name": "python",
   "nbconvert_exporter": "python",
   "pygments_lexer": "ipython3",
   "version": "3.10.1"
  },
  "orig_nbformat": 4
 },
 "nbformat": 4,
 "nbformat_minor": 2
}
