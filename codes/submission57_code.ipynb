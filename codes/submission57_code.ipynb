{
 "cells": [
  {
   "cell_type": "code",
   "execution_count": 18,
   "metadata": {},
   "outputs": [],
   "source": [
    "import csv\n",
    "import numpy as np\n",
    "from sklearn.linear_model import LogisticRegression\n",
    "from sklearn.model_selection import train_test_split\n",
    "from sklearn.metrics import accuracy_score\n",
    "from sklearn.discriminant_analysis import LinearDiscriminantAnalysis\n",
    "from sklearn.discriminant_analysis import QuadraticDiscriminantAnalysis\n",
    "from sklearn.neighbors import KNeighborsClassifier\n",
    "from sklearn.decomposition import PCA\n",
    "from sklearn.preprocessing import StandardScaler\n",
    "from sklearn.ensemble import RandomForestClassifier, VotingClassifier, BaggingClassifier\n",
    "from sklearn.model_selection import cross_val_score\n",
    "from sklearn import preprocessing\n",
    "import matplotlib.pyplot as plt\n",
    "from sklearn.model_selection import StratifiedKFold\n",
    "from sklearn.cluster import KMeans\n",
    "from sklearn.preprocessing import LabelEncoder\n"
   ]
  },
  {
   "cell_type": "code",
   "execution_count": 19,
   "metadata": {},
   "outputs": [],
   "source": [
    "# Load data from the train data csv file\n",
    "Feature = []\n",
    "Label = []\n",
    "with open('data/train/train.csv', 'r') as f:\n",
    "    reader = csv.reader(f)\n",
    "    train_data = list(reader)\n",
    "    # remove the first row\n",
    "    train_data = train_data[1:]\n",
    "    for row in train_data:\n",
    "        Feature.append(np.array([float(x) for x in row[1:-1]]))\n",
    "        Label.append(row[-1])  \n",
    "Features = np.array(Feature)\n",
    "Labels = np.array(Label)\n",
    "label_encoder = LabelEncoder()\n",
    "Labels = label_encoder.fit_transform(Labels)"
   ]
  },
  {
   "cell_type": "code",
   "execution_count": 20,
   "metadata": {},
   "outputs": [],
   "source": [
    "# Load data from the test data csv file\n",
    "test_features = []\n",
    "with open('data/test/test.csv', 'r') as f:\n",
    "    reader = csv.reader(f)\n",
    "    test_data = list(reader)\n",
    "    # remove the first row\n",
    "    test_data = test_data[1:]\n",
    "    for row in test_data:\n",
    "        test_features.append(np.array([float(x) for x in row[1:]]))\n",
    "test_features = np.array(test_features)"
   ]
  },
  {
   "cell_type": "code",
   "execution_count": 21,
   "metadata": {},
   "outputs": [],
   "source": [
    "pca = PCA(n_components=431)\n",
    "pca.fit(Features)\n",
    "Features = pca.transform(Features)\n",
    "lda = LinearDiscriminantAnalysis()\n",
    "lda.fit(Features, Labels)\n",
    "Features = lda.transform(Features)\n",
    "# perform k-means\n",
    "k_means = KMeans(n_clusters = 19, random_state = 42).fit(Features)\n",
    "Features_k_means = k_means.labels_\n",
    "Features_k_means = Features_k_means.reshape(-1,1)\n",
    "Features_k_means = preprocessing.scale(Features_k_means)\n",
    "Features_k_means = np.concatenate((Features, Features_k_means), axis=1)\n",
    "Features = Features_k_means"
   ]
  },
  {
   "cell_type": "code",
   "execution_count": 23,
   "metadata": {},
   "outputs": [
    {
     "name": "stdout",
     "output_type": "stream",
     "text": [
      "finished the k fold for i =  0\n",
      "finished the k fold for i =  1\n",
      "finished the k fold for i =  2\n",
      "finished the k fold for i =  3\n",
      "finished the k fold for i =  4\n",
      "finished the k fold for i =  5\n",
      "finished the k fold for i =  6\n",
      "finished the k fold for i =  7\n",
      "finished the k fold for i =  8\n",
      "finished the k fold for i =  9\n"
     ]
    },
    {
     "data": {
      "text/html": [
       "<style>#sk-container-id-2 {color: black;background-color: white;}#sk-container-id-2 pre{padding: 0;}#sk-container-id-2 div.sk-toggleable {background-color: white;}#sk-container-id-2 label.sk-toggleable__label {cursor: pointer;display: block;width: 100%;margin-bottom: 0;padding: 0.3em;box-sizing: border-box;text-align: center;}#sk-container-id-2 label.sk-toggleable__label-arrow:before {content: \"▸\";float: left;margin-right: 0.25em;color: #696969;}#sk-container-id-2 label.sk-toggleable__label-arrow:hover:before {color: black;}#sk-container-id-2 div.sk-estimator:hover label.sk-toggleable__label-arrow:before {color: black;}#sk-container-id-2 div.sk-toggleable__content {max-height: 0;max-width: 0;overflow: hidden;text-align: left;background-color: #f0f8ff;}#sk-container-id-2 div.sk-toggleable__content pre {margin: 0.2em;color: black;border-radius: 0.25em;background-color: #f0f8ff;}#sk-container-id-2 input.sk-toggleable__control:checked~div.sk-toggleable__content {max-height: 200px;max-width: 100%;overflow: auto;}#sk-container-id-2 input.sk-toggleable__control:checked~label.sk-toggleable__label-arrow:before {content: \"▾\";}#sk-container-id-2 div.sk-estimator input.sk-toggleable__control:checked~label.sk-toggleable__label {background-color: #d4ebff;}#sk-container-id-2 div.sk-label input.sk-toggleable__control:checked~label.sk-toggleable__label {background-color: #d4ebff;}#sk-container-id-2 input.sk-hidden--visually {border: 0;clip: rect(1px 1px 1px 1px);clip: rect(1px, 1px, 1px, 1px);height: 1px;margin: -1px;overflow: hidden;padding: 0;position: absolute;width: 1px;}#sk-container-id-2 div.sk-estimator {font-family: monospace;background-color: #f0f8ff;border: 1px dotted black;border-radius: 0.25em;box-sizing: border-box;margin-bottom: 0.5em;}#sk-container-id-2 div.sk-estimator:hover {background-color: #d4ebff;}#sk-container-id-2 div.sk-parallel-item::after {content: \"\";width: 100%;border-bottom: 1px solid gray;flex-grow: 1;}#sk-container-id-2 div.sk-label:hover label.sk-toggleable__label {background-color: #d4ebff;}#sk-container-id-2 div.sk-serial::before {content: \"\";position: absolute;border-left: 1px solid gray;box-sizing: border-box;top: 0;bottom: 0;left: 50%;z-index: 0;}#sk-container-id-2 div.sk-serial {display: flex;flex-direction: column;align-items: center;background-color: white;padding-right: 0.2em;padding-left: 0.2em;position: relative;}#sk-container-id-2 div.sk-item {position: relative;z-index: 1;}#sk-container-id-2 div.sk-parallel {display: flex;align-items: stretch;justify-content: center;background-color: white;position: relative;}#sk-container-id-2 div.sk-item::before, #sk-container-id-2 div.sk-parallel-item::before {content: \"\";position: absolute;border-left: 1px solid gray;box-sizing: border-box;top: 0;bottom: 0;left: 50%;z-index: -1;}#sk-container-id-2 div.sk-parallel-item {display: flex;flex-direction: column;z-index: 1;position: relative;background-color: white;}#sk-container-id-2 div.sk-parallel-item:first-child::after {align-self: flex-end;width: 50%;}#sk-container-id-2 div.sk-parallel-item:last-child::after {align-self: flex-start;width: 50%;}#sk-container-id-2 div.sk-parallel-item:only-child::after {width: 0;}#sk-container-id-2 div.sk-dashed-wrapped {border: 1px dashed gray;margin: 0 0.4em 0.5em 0.4em;box-sizing: border-box;padding-bottom: 0.4em;background-color: white;}#sk-container-id-2 div.sk-label label {font-family: monospace;font-weight: bold;display: inline-block;line-height: 1.2em;}#sk-container-id-2 div.sk-label-container {text-align: center;}#sk-container-id-2 div.sk-container {/* jupyter's `normalize.less` sets `[hidden] { display: none; }` but bootstrap.min.css set `[hidden] { display: none !important; }` so we also need the `!important` here to be able to override the default hidden behavior on the sphinx rendered scikit-learn.org. See: https://github.com/scikit-learn/scikit-learn/issues/21755 */display: inline-block !important;position: relative;}#sk-container-id-2 div.sk-text-repr-fallback {display: none;}</style><div id=\"sk-container-id-2\" class=\"sk-top-container\"><div class=\"sk-text-repr-fallback\"><pre>LogisticRegression(max_iter=10000)</pre><b>In a Jupyter environment, please rerun this cell to show the HTML representation or trust the notebook. <br />On GitHub, the HTML representation is unable to render, please try loading this page with nbviewer.org.</b></div><div class=\"sk-container\" hidden><div class=\"sk-item\"><div class=\"sk-estimator sk-toggleable\"><input class=\"sk-toggleable__control sk-hidden--visually\" id=\"sk-estimator-id-2\" type=\"checkbox\" checked><label for=\"sk-estimator-id-2\" class=\"sk-toggleable__label sk-toggleable__label-arrow\">LogisticRegression</label><div class=\"sk-toggleable__content\"><pre>LogisticRegression(max_iter=10000)</pre></div></div></div></div></div>"
      ],
      "text/plain": [
       "LogisticRegression(max_iter=10000)"
      ]
     },
     "execution_count": 23,
     "metadata": {},
     "output_type": "execute_result"
    }
   ],
   "source": [
    "meta_model = LogisticRegression(max_iter=10000)\n",
    "k_folds = 10\n",
    "skf = StratifiedKFold(n_splits = k_folds, shuffle = True, random_state = 42)\n",
    "meta_features_train = np.zeros((Features.shape[0], 2))\n",
    "# Train the logistic regression model and the KNN model and generate meta features\n",
    "for i, (train_index, test_index) in enumerate(skf.split(Features, Labels)):\n",
    "    training_data = Features[train_index]\n",
    "    training_labels = Labels[train_index]\n",
    "    testing_data = Features[test_index]\n",
    "    testing_labels = Labels[test_index]\n",
    "    logreg = LogisticRegression(max_iter=10000)\n",
    "    knn = KNeighborsClassifier(n_neighbors=1)\n",
    "    logreg.fit(training_data, training_labels)\n",
    "    knn.fit(training_data, training_labels)\n",
    "    log_predictions = logreg.predict(testing_data)\n",
    "    knn_predictions = knn.predict(testing_data)\n",
    "    meta_features_train[test_index, 0] = log_predictions\n",
    "    meta_features_train[test_index, 1] = knn_predictions\n",
    "    print(\"finished the k fold for i = \", i)\n",
    "# Train the meta model\n",
    "meta_model.fit(meta_features_train, Labels)"
   ]
  },
  {
   "cell_type": "code",
   "execution_count": 24,
   "metadata": {},
   "outputs": [],
   "source": [
    "# Load data from the test data csv file\n",
    "test_features = []\n",
    "with open('data/test/test.csv', 'r') as f:\n",
    "    reader = csv.reader(f)\n",
    "    test_data = list(reader)\n",
    "    # remove the first row\n",
    "    test_data = test_data[1:]\n",
    "    for row in test_data:\n",
    "        test_features.append(np.array([float(x) for x in row[1:]]))\n",
    "test_features = np.array(test_features)\n",
    "test_features = pca.transform(test_features)\n",
    "test_features = lda.transform(test_features)\n",
    "# perform k-means\n",
    "test_features_k_means = k_means.predict(test_features)\n",
    "test_features_k_means = test_features_k_means.reshape(-1,1)\n",
    "test_features_k_means = preprocessing.scale(test_features_k_means)\n",
    "test_features_k_means = np.concatenate((test_features, test_features_k_means), axis=1)\n",
    "test_features = test_features_k_means\n",
    "# Generate meta features for the test set\n",
    "meta_features_test = np.zeros((test_features.shape[0], 2))\n",
    "log_predictions = logreg.predict(test_features)\n",
    "knn_predictions = knn.predict(test_features)\n",
    "meta_features_test[:, 0] = log_predictions\n",
    "meta_features_test[:, 1] = knn_predictions\n",
    "# Evaluate the meta model\n",
    "predictions = meta_model.predict(meta_features_test)\n",
    "# convert the predictions back to string labels which was converted using labelEncoder\n",
    "test_result_labels = label_encoder.inverse_transform(predictions)\n",
    "# write the predictions to a csv file\n",
    "with open('data/test/submission_57_results.csv', 'w', newline='') as f:\n",
    "    writer = csv.writer(f)\n",
    "    writer.writerow(['Id', 'Category'])\n",
    "    for i in range(len(test_result_labels)):\n",
    "        writer.writerow([i, test_result_labels[i]])"
   ]
  }
 ],
 "metadata": {
  "kernelspec": {
   "display_name": "Python 3",
   "language": "python",
   "name": "python3"
  },
  "language_info": {
   "codemirror_mode": {
    "name": "ipython",
    "version": 3
   },
   "file_extension": ".py",
   "mimetype": "text/x-python",
   "name": "python",
   "nbconvert_exporter": "python",
   "pygments_lexer": "ipython3",
   "version": "3.10.1"
  },
  "orig_nbformat": 4
 },
 "nbformat": 4,
 "nbformat_minor": 2
}
