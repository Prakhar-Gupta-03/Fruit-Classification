{
 "cells": [
  {
   "cell_type": "code",
   "execution_count": 6,
   "metadata": {},
   "outputs": [],
   "source": [
    "import csv\n",
    "import numpy as np\n",
    "from sklearn.linear_model import LogisticRegression\n",
    "from sklearn.model_selection import train_test_split\n",
    "from sklearn.metrics import accuracy_score\n",
    "from sklearn.discriminant_analysis import LinearDiscriminantAnalysis\n",
    "from sklearn.discriminant_analysis import QuadraticDiscriminantAnalysis\n",
    "from sklearn.neighbors import KNeighborsClassifier\n",
    "from sklearn.decomposition import PCA\n",
    "from sklearn.preprocessing import StandardScaler\n",
    "from sklearn.ensemble import RandomForestClassifier, VotingClassifier, BaggingClassifier\n",
    "from sklearn.model_selection import cross_val_score\n",
    "from sklearn import preprocessing\n",
    "import matplotlib.pyplot as plt\n",
    "from sklearn.model_selection import StratifiedKFold\n",
    "from sklearn.cluster import KMeans\n",
    "from sklearn.cluster import AgglomerativeClustering\n",
    "from sklearn.cluster import DBSCAN\n",
    "from sklearn.cluster import MeanShift"
   ]
  },
  {
   "cell_type": "code",
   "execution_count": 7,
   "metadata": {},
   "outputs": [],
   "source": [
    "# Load data from the train data csv file\n",
    "Feature = []\n",
    "Label = []\n",
    "with open('data/train/train.csv', 'r') as f:\n",
    "    reader = csv.reader(f)\n",
    "    train_data = list(reader)\n",
    "    # remove the first row\n",
    "    train_data = train_data[1:]\n",
    "    for row in train_data:\n",
    "        Feature.append(np.array([float(x) for x in row[1:-1]]))\n",
    "        Label.append(row[-1])  \n",
    "Features = np.array(Feature)\n",
    "Labels = np.array(Label)"
   ]
  },
  {
   "cell_type": "code",
   "execution_count": 8,
   "metadata": {},
   "outputs": [],
   "source": [
    "# Load data from the test data csv file\n",
    "test_features = []\n",
    "with open('data/test/test.csv', 'r') as f:\n",
    "    reader = csv.reader(f)\n",
    "    test_data = list(reader)\n",
    "    # remove the first row\n",
    "    test_data = test_data[1:]\n",
    "    for row in test_data:\n",
    "        test_features.append(np.array([float(x) for x in row[1:]]))\n",
    "test_features = np.array(test_features)"
   ]
  },
  {
   "cell_type": "code",
   "execution_count": 9,
   "metadata": {},
   "outputs": [],
   "source": [
    "pca = PCA(n_components=415)\n",
    "pca.fit(Features)\n",
    "Features = pca.transform(Features)\n",
    "test_features = pca.transform(test_features)\n",
    "lda = LinearDiscriminantAnalysis()\n",
    "lda.fit(Features, Labels)\n",
    "Features = lda.transform(Features)\n",
    "test_features = lda.transform(test_features)"
   ]
  },
  {
   "cell_type": "code",
   "execution_count": 10,
   "metadata": {},
   "outputs": [],
   "source": [
    "# agglomerative clustering\n",
    "agglomerative = AgglomerativeClustering(n_clusters=4)\n",
    "cluster_labels_agglomerative = agglomerative.fit_predict(Features)\n",
    "new_features_agglomerative = np.expand_dims(cluster_labels_agglomerative, axis=1)\n",
    "new_test_features_agglomerative = np.expand_dims(agglomerative.fit_predict(test_features), axis=1)\n",
    "Features_agglomerative = np.concatenate((Features, new_features_agglomerative), axis=1)\n",
    "test_features_agglomerative = np.concatenate((test_features, new_test_features_agglomerative), axis=1)\n",
    "logistic_agglomerative = LogisticRegression(max_iter = 10000)\n",
    "logistic_agglomerative.fit(Features_agglomerative, Labels)\n",
    "\n",
    "# DBSCAN clustering\n",
    "dbscan = DBSCAN(eps=0.5, min_samples=5)\n",
    "cluster_labels_dbscan = dbscan.fit_predict(Features)\n",
    "new_features_dbscan = np.expand_dims(cluster_labels_dbscan, axis=1)\n",
    "new_test_features_dbscan = np.expand_dims(dbscan.fit_predict(test_features), axis=1)\n",
    "Features_dbscan = np.concatenate((Features, new_features_dbscan), axis=1)\n",
    "test_features_dbscan = np.concatenate((test_features, new_test_features_dbscan), axis=1)\n",
    "logistic_dbscan = LogisticRegression(max_iter = 10000)\n",
    "logistic_dbscan.fit(Features_dbscan, Labels)\n",
    "\n",
    "# Mean shift clustering\n",
    "mean_shift = MeanShift(bandwidth=4.2)\n",
    "cluster_labels_mean_shift = mean_shift.fit_predict(Features)\n",
    "new_features_mean_shift = np.expand_dims(cluster_labels_mean_shift, axis=1)\n",
    "new_test_features_mean_shift = np.expand_dims(mean_shift.fit_predict(test_features), axis=1)\n",
    "Features_mean_shift = np.concatenate((Features, new_features_mean_shift), axis=1)\n",
    "test_features_mean_shift = np.concatenate((test_features, new_test_features_mean_shift), axis=1)\n",
    "logistic_mean_shift = LogisticRegression(max_iter = 10000)\n",
    "logistic_mean_shift.fit(Features_mean_shift, Labels)\n",
    "\n",
    "# voting classifier\n",
    "voting_classifier = VotingClassifier(estimators=[('logistic_agglomerative', logistic_agglomerative), ('logistic_dbscan', logistic_dbscan), ('logistic_mean_shift', logistic_mean_shift)], voting='hard')\n",
    "voting_classifier.fit(Features, Labels)\n",
    "\n",
    "# predict the test data\n",
    "predictions = voting_classifier.predict(test_features)\n",
    "# write the predictions to the submission file\n",
    "with open('data/test/submission84.csv', 'w') as f:\n",
    "    writer = csv.writer(f)\n",
    "    writer.writerow(['Id', 'Category'])\n",
    "    for i in range(len(predictions)):\n",
    "        writer.writerow([i, predictions[i]])"
   ]
  }
 ],
 "metadata": {
  "kernelspec": {
   "display_name": "Python 3",
   "language": "python",
   "name": "python3"
  },
  "language_info": {
   "codemirror_mode": {
    "name": "ipython",
    "version": 3
   },
   "file_extension": ".py",
   "mimetype": "text/x-python",
   "name": "python",
   "nbconvert_exporter": "python",
   "pygments_lexer": "ipython3",
   "version": "3.10.1"
  },
  "orig_nbformat": 4
 },
 "nbformat": 4,
 "nbformat_minor": 2
}
