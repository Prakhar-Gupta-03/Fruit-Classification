{
 "cells": [
  {
   "cell_type": "code",
   "execution_count": 145,
   "metadata": {},
   "outputs": [],
   "source": [
    "import csv\n",
    "import numpy as np\n",
    "from sklearn.linear_model import LogisticRegression\n",
    "from sklearn.metrics import accuracy_score\n",
    "from sklearn.discriminant_analysis import LinearDiscriminantAnalysis\n",
    "from sklearn.decomposition import PCA\n",
    "from sklearn.neighbors import LocalOutlierFactor\n",
    "from sklearn.model_selection import train_test_split\n",
    "from sklearn.ensemble import VotingClassifier, BaggingClassifier\n",
    "from sklearn.model_selection import cross_val_score\n",
    "from sklearn.neighbors import KNeighborsClassifier\n",
    "from sklearn import preprocessing"
   ]
  },
  {
   "cell_type": "code",
   "execution_count": 146,
   "metadata": {},
   "outputs": [],
   "source": [
    "# Loading Data from Train Dataset\n",
    "Features, Labels = [], []\n",
    "with open ('train.csv', mode='r') as file:\n",
    "    csvFile = csv.reader(file)\n",
    "    data = list(csvFile)\n",
    "    data = data[1:]\n",
    "    for data_point in data:\n",
    "        Features.append(np.array([float(x) for x in data_point[1:-1]]))\n",
    "        Labels.append(data_point[-1])\n",
    "Features = np.array(Features)"
   ]
  },
  {
   "cell_type": "code",
   "execution_count": 147,
   "metadata": {},
   "outputs": [],
   "source": [
    "# Loading Data from Test Dataset\n",
    "Features_Test = []\n",
    "with open ('test.csv', mode='r') as file:\n",
    "    csvFile = csv.reader(file)\n",
    "    data = list(csvFile)\n",
    "    data = data[1:]\n",
    "    for data_point in data:\n",
    "        Features_Test.append(np.array([float(x) for x in data_point[1:]]))\n",
    "Features_Test = np.array(Features_Test)"
   ]
  },
  {
   "cell_type": "code",
   "execution_count": 148,
   "metadata": {},
   "outputs": [],
   "source": [
    "# Features_Train, Features_Validation, Labels_Train, Labels_Validation = train_test_split(Features, Labels, test_size=0.1, random_state=42) "
   ]
  },
  {
   "cell_type": "code",
   "execution_count": 149,
   "metadata": {},
   "outputs": [],
   "source": [
    "\n",
    "pca = PCA(n_components=650)\n",
    "Features_Train_PCA = pca.fit_transform(Features)\n",
    "clf = LogisticRegression(max_iter=10000)\n",
    "clf.fit(Features_Train_PCA, Labels)\n",
    "predict = clf.predict(pca.transform(Features_Test))"
   ]
  },
  {
   "cell_type": "code",
   "execution_count": null,
   "metadata": {},
   "outputs": [],
   "source": []
  },
  {
   "cell_type": "code",
   "execution_count": 150,
   "metadata": {},
   "outputs": [],
   "source": [
    "# pca = PCA(n_components=150)\n",
    "# Features_PCA = pca.fit_transform(Features, Labels)\n",
    "# Labels_PCA = Labels"
   ]
  },
  {
   "cell_type": "code",
   "execution_count": 151,
   "metadata": {},
   "outputs": [],
   "source": [
    "# from sklearn.ensemble import RandomForestClassifier\n",
    "# n_estimators = 1000 # number of decision trees in the forest\n",
    "# max_depth = 10 # maximum depth of each decision tree\n",
    "# random_state = 42\n",
    "# rf = RandomForestClassifier(n_estimators=n_estimators, max_depth=max_depth, random_state=random_state)\n",
    "# a = cross_val_score(rf, Features_PCA, Labels_PCA, cv=10).mean()\n",
    "# print(a)"
   ]
  },
  {
   "cell_type": "code",
   "execution_count": 152,
   "metadata": {},
   "outputs": [],
   "source": [
    "# from sklearn.ensemble import GradientBoostingClassifier\n",
    "\n",
    "# Features_Train, Features_Validation, Labels_Train, Labels_Validation = train_test_split(Features, Labels, test_size=0.1, random_state=42) \n",
    "\n",
    "# pca = PCA(n_components=250)\n",
    "# Features_Train_PCA = pca.fit_transform(Features_Train, Labels_Train)\n",
    "# Labels_Train_PCA = Labels_Train\n",
    "# Features_Validation_PCA = pca.transform(Features_Validation)\n",
    "# Labels_Validation_PCA = Labels_Validation\n",
    "# print(\"pca done\")\n",
    "\n",
    "# n_estimators = 8 # number of decision trees in the ensemble\n",
    "# learning_rate = 0.05 # learning rate of the ensemble\n",
    "# max_depth = 5 # maximum depth of each decision tree\n",
    "# random_state = 42\n",
    "# gbm = GradientBoostingClassifier(n_estimators=n_estimators, learning_rate=learning_rate, max_depth=max_depth, random_state=random_state)\n",
    "\n",
    "# gbm.fit(Features_Train_PCA, Labels_Train_PCA)\n",
    "# print(\"gbm fitted\")\n",
    "# predict = gbm.predict(Features_Validation_PCA)\n",
    "# print(accuracy_score(Labels_Validation_PCA, predict))"
   ]
  },
  {
   "cell_type": "code",
   "execution_count": 153,
   "metadata": {},
   "outputs": [],
   "source": [
    "# acc = []\n",
    "# # for comp in range(100, 1000):\n",
    "\n",
    "# pca = PCA(n_components=195)\n",
    "# Features_PCA = pca.fit_transform(Features, Labels)\n",
    "# Labels_PCA = Labels\n",
    "\n",
    "# lda = LinearDiscriminantAnalysis(n_components=1)\n",
    "# a = cross_val_score(lda, Features_PCA, Labels_PCA, cv=10).mean()\n",
    "# print(195, a)\n",
    "#     # acc.append(a)"
   ]
  },
  {
   "cell_type": "code",
   "execution_count": 154,
   "metadata": {},
   "outputs": [],
   "source": [
    "Features_Train, Features_Validation, Labels_Train, Labels_Validation = train_test_split(Features, Labels, test_size=0.1, random_state=42) "
   ]
  },
  {
   "cell_type": "code",
   "execution_count": 155,
   "metadata": {},
   "outputs": [
    {
     "name": "stdout",
     "output_type": "stream",
     "text": [
      "0.8360655737704918\n"
     ]
    }
   ],
   "source": [
    "pca = PCA(n_components=289)\n",
    "Features_Train_PCA = pca.fit_transform(Features_Train)\n",
    "lda = LinearDiscriminantAnalysis(n_components=1)\n",
    "X_train = lda.fit_transform(Features_Train_PCA, Labels_Train)\n",
    "    # print(X_train)\n",
    "    # X_test = lda.transform(Features_Validation)\n",
    "predict = lda.predict(pca.transform(Features_Validation))\n",
    "print(accuracy_score(Labels_Validation, predict))"
   ]
  },
  {
   "cell_type": "code",
   "execution_count": 156,
   "metadata": {},
   "outputs": [],
   "source": [
    "predict = lda.predict(pca.transform(Features_Test))"
   ]
  },
  {
   "cell_type": "code",
   "execution_count": 157,
   "metadata": {},
   "outputs": [],
   "source": [
    "L = []\n",
    "for i in range(len(predict)):\n",
    "    L.append([i, predict[i]])"
   ]
  },
  {
   "cell_type": "code",
   "execution_count": 158,
   "metadata": {},
   "outputs": [],
   "source": [
    "fields = ['ID', 'Category']\n",
    "with open('submission21.csv', 'w', newline='') as csvFile:\n",
    "    csvwriter = csv.writer(csvFile)\n",
    "    csvwriter.writerow(fields)\n",
    "    csvwriter.writerows(L)"
   ]
  }
 ],
 "metadata": {
  "kernelspec": {
   "display_name": "Python 3",
   "language": "python",
   "name": "python3"
  },
  "language_info": {
   "codemirror_mode": {
    "name": "ipython",
    "version": 3
   },
   "file_extension": ".py",
   "mimetype": "text/x-python",
   "name": "python",
   "nbconvert_exporter": "python",
   "pygments_lexer": "ipython3",
   "version": "3.10.1"
  },
  "orig_nbformat": 4
 },
 "nbformat": 4,
 "nbformat_minor": 2
}
