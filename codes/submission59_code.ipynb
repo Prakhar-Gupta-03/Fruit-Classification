{
 "cells": [
  {
   "cell_type": "code",
   "execution_count": 15,
   "metadata": {},
   "outputs": [],
   "source": [
    "import csv\n",
    "import numpy as np\n",
    "from sklearn.linear_model import LogisticRegression\n",
    "from sklearn.model_selection import train_test_split\n",
    "from sklearn.metrics import accuracy_score\n",
    "from sklearn.discriminant_analysis import LinearDiscriminantAnalysis\n",
    "from sklearn.discriminant_analysis import QuadraticDiscriminantAnalysis\n",
    "from sklearn.neighbors import KNeighborsClassifier\n",
    "from sklearn.decomposition import PCA\n",
    "from sklearn.preprocessing import StandardScaler\n",
    "from sklearn.ensemble import RandomForestClassifier, VotingClassifier, BaggingClassifier\n",
    "from sklearn.model_selection import cross_val_score\n",
    "from sklearn import preprocessing\n",
    "import matplotlib.pyplot as plt\n",
    "from sklearn.model_selection import StratifiedKFold\n",
    "from sklearn.cluster import KMeans\n",
    "from sklearn.cluster import AgglomerativeClustering\n",
    "from sklearn.cluster import DBSCAN\n",
    "from sklearn.cluster import MeanShift\n"
   ]
  },
  {
   "cell_type": "code",
   "execution_count": 16,
   "metadata": {},
   "outputs": [],
   "source": [
    "# Load data from the train data csv file\n",
    "Feature = []\n",
    "Label = []\n",
    "with open('data/train/train.csv', 'r') as f:\n",
    "    reader = csv.reader(f)\n",
    "    train_data = list(reader)\n",
    "    # remove the first row\n",
    "    train_data = train_data[1:]\n",
    "    for row in train_data:\n",
    "        Feature.append(np.array([float(x) for x in row[1:-1]]))\n",
    "        Label.append(row[-1])  \n",
    "Features = np.array(Feature)\n",
    "Labels = np.array(Label)"
   ]
  },
  {
   "cell_type": "code",
   "execution_count": 17,
   "metadata": {},
   "outputs": [],
   "source": [
    "# Load data from the test data csv file\n",
    "test_features = []\n",
    "with open('data/test/test.csv', 'r') as f:\n",
    "    reader = csv.reader(f)\n",
    "    test_data = list(reader)\n",
    "    # remove the first row\n",
    "    test_data = test_data[1:]\n",
    "    for row in test_data:\n",
    "        test_features.append(np.array([float(x) for x in row[1:]]))\n",
    "test_features = np.array(test_features)"
   ]
  },
  {
   "cell_type": "code",
   "execution_count": 18,
   "metadata": {},
   "outputs": [],
   "source": [
    "pca = PCA(n_components=415)\n",
    "pca.fit(Features)\n",
    "Features = pca.transform(Features)\n",
    "test_features = pca.transform(test_features)\n",
    "lda = LinearDiscriminantAnalysis()\n",
    "lda.fit(Features, Labels)\n",
    "Features = lda.transform(Features)\n",
    "test_features = lda.transform(test_features)"
   ]
  },
  {
   "cell_type": "code",
   "execution_count": 19,
   "metadata": {},
   "outputs": [],
   "source": [
    "# implementing mean shift clustering algorithm\n",
    "mean_shift = MeanShift(bandwidth=3.8)\n",
    "cluster_labels = mean_shift.fit_predict(Features)\n",
    "new_features = np.expand_dims(cluster_labels, axis=1)\n",
    "Features = np.concatenate((Features, new_features), axis=1)"
   ]
  },
  {
   "cell_type": "code",
   "execution_count": 20,
   "metadata": {},
   "outputs": [],
   "source": [
    "# # implementing k fold cross validation \n",
    "# # k = 10\n",
    "# # skf = StratifiedKFold(n_splits=k, shuffle=True)\n",
    "# # skf.get_n_splits(Features, Labels)\n",
    "# # distance = 10\n",
    "# # best_accuracy = 0\n",
    "# # best_bandwidth = 0\n",
    "# # for i, (train_index, test_index) in enumerate(skf.split(Features, Labels)):\n",
    "# #     X_train = Features[train_index]\n",
    "# #     X_test = Features[test_index]\n",
    "# #     y_train = Labels[train_index]\n",
    "# #     y_test = Labels[test_index]\n",
    "# #     mean_shift = MeanShift(bandwidth=distance)\n",
    "# #     cluster_labels = mean_shift.fit_predict(X_train)\n",
    "# #     new_features = np.expand_dims(cluster_labels, axis=1)\n",
    "# #     X_train = np.concatenate((X_train, new_features), axis=1)\n",
    "# #     cluster_labels = mean_shift.predict(X_test)\n",
    "# #     new_features = np.expand_dims(cluster_labels, axis=1)\n",
    "# #     X_test = np.concatenate((X_test, new_features), axis=1)\n",
    "# #     # implementing logistic regression\n",
    "# #     logistic_regression = LogisticRegression(max_iter=1000)\n",
    "# #     logistic_regression.fit(X_train, y_train)\n",
    "# #     y_pred = logistic_regression.predict(X_test)\n",
    "# #     print(\"Logistic Regression Accuracy: \", accuracy_score(y_test, y_pred))\n",
    "# #     accuracy = accuracy_score(y_test, y_pred)\n",
    "# #     if accuracy > best_accuracy:\n",
    "# #         best_accuracy = accuracy\n",
    "# #         best_bandwidth = distance\n",
    "# #     distance -= 0.2\n",
    "\n",
    "# # implementing mean shift clustering algorithm with validation\n",
    "# bandwidth = 4\n",
    "# best_accuracy = 0\n",
    "# best_bandwidth = 0\n",
    "# while (bandwidth>0):\n",
    "#     X_train, X_test, y_train, y_test = train_test_split(Features, Labels, test_size=0.2, random_state=42, stratify=Labels)\n",
    "#     mean_shift = MeanShift(bandwidth=bandwidth)\n",
    "#     cluster_labels = mean_shift.fit_predict(X_train)\n",
    "#     new_features = np.expand_dims(cluster_labels, axis=1)\n",
    "#     X_train = np.concatenate((X_train, new_features), axis=1)\n",
    "#     cluster_labels = mean_shift.predict(X_test)\n",
    "#     new_features = np.expand_dims(cluster_labels, axis=1)\n",
    "#     X_test = np.concatenate((X_test, new_features), axis=1)\n",
    "#     # implementing logistic regression\n",
    "#     logistic_regression = LogisticRegression(max_iter=1000)\n",
    "#     logistic_regression.fit(X_train, y_train)\n",
    "#     y_pred = logistic_regression.predict(X_test)\n",
    "#     print(\"Logistic Regression Accuracy: \", accuracy_score(y_test, y_pred))\n",
    "#     accuracy = accuracy_score(y_test, y_pred)\n",
    "#     if accuracy > best_accuracy:\n",
    "#         best_accuracy = accuracy\n",
    "#         best_bandwidth = bandwidth\n",
    "#     bandwidth -= 0.2"
   ]
  },
  {
   "cell_type": "code",
   "execution_count": 21,
   "metadata": {},
   "outputs": [],
   "source": [
    "# print(\"Best Accuracy: \", best_accuracy)\n",
    "# print(\"Best Bandwidth: \", best_bandwidth)"
   ]
  },
  {
   "cell_type": "code",
   "execution_count": 22,
   "metadata": {},
   "outputs": [],
   "source": [
    "# implement logistic regression\n",
    "logreg = LogisticRegression(max_iter=10000)\n",
    "logreg.fit(Features, Labels)\n",
    "test_cluster_labels = mean_shift.predict(test_features)\n",
    "new_test_features = np.expand_dims(test_cluster_labels, axis=1)\n",
    "test_features = np.concatenate((test_features, new_test_features), axis=1)\n",
    "test_pred = logreg.predict(test_features)"
   ]
  },
  {
   "cell_type": "code",
   "execution_count": 23,
   "metadata": {},
   "outputs": [],
   "source": [
    "with open('data/test/submission_59_results.csv','w',newline='') as file:\n",
    "    writer = csv.writer(file)\n",
    "    writer.writerow(['Id', 'Category'])\n",
    "    for i in range(len(test_pred)):\n",
    "        writer.writerow([i, test_pred[i]])"
   ]
  }
 ],
 "metadata": {
  "kernelspec": {
   "display_name": "Python 3",
   "language": "python",
   "name": "python3"
  },
  "language_info": {
   "codemirror_mode": {
    "name": "ipython",
    "version": 3
   },
   "file_extension": ".py",
   "mimetype": "text/x-python",
   "name": "python",
   "nbconvert_exporter": "python",
   "pygments_lexer": "ipython3",
   "version": "3.10.1"
  },
  "orig_nbformat": 4
 },
 "nbformat": 4,
 "nbformat_minor": 2
}
