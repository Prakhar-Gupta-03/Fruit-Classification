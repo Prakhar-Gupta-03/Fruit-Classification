{
 "cells": [
  {
   "cell_type": "code",
   "execution_count": 30,
   "metadata": {},
   "outputs": [],
   "source": [
    "import csv\n",
    "import numpy as np\n",
    "from sklearn.linear_model import LogisticRegression\n",
    "from sklearn.model_selection import train_test_split\n",
    "from sklearn.metrics import accuracy_score\n",
    "from sklearn.discriminant_analysis import LinearDiscriminantAnalysis\n",
    "from sklearn.discriminant_analysis import QuadraticDiscriminantAnalysis\n",
    "from sklearn.neighbors import KNeighborsClassifier\n",
    "from sklearn.decomposition import PCA\n",
    "from sklearn.preprocessing import StandardScaler\n",
    "from sklearn.ensemble import RandomForestClassifier, VotingClassifier, BaggingClassifier\n",
    "from sklearn.model_selection import cross_val_score\n",
    "from sklearn import preprocessing\n",
    "import matplotlib.pyplot as plt\n",
    "from sklearn.model_selection import StratifiedKFold\n",
    "from sklearn.cluster import KMeans"
   ]
  },
  {
   "cell_type": "code",
   "execution_count": 31,
   "metadata": {},
   "outputs": [],
   "source": [
    "# Load data from the train data csv file\n",
    "Feature = []\n",
    "Label = []\n",
    "with open('data/train/train.csv', 'r') as f:\n",
    "    reader = csv.reader(f)\n",
    "    train_data = list(reader)\n",
    "    # remove the first row\n",
    "    train_data = train_data[1:]\n",
    "    for row in train_data:\n",
    "        Feature.append(np.array([float(x) for x in row[1:-1]]))\n",
    "        Label.append(row[-1])  \n",
    "Features = np.array(Feature)\n",
    "Labels = np.array(Label)"
   ]
  },
  {
   "cell_type": "code",
   "execution_count": 32,
   "metadata": {},
   "outputs": [],
   "source": [
    "# implement pca on 431 components\n",
    "pca = PCA(n_components=431)\n",
    "pca.fit(Features)\n",
    "Features_pca = pca.transform(Features)\n",
    "# implement lda on default number of components\n",
    "lda = LinearDiscriminantAnalysis()\n",
    "lda.fit(Features_pca, Labels)\n",
    "Features_lda = lda.transform(Features_pca)\n",
    "# implement k means algorithm and add a cluster label to each data point\n",
    "k_means = KMeans(n_clusters=19, random_state=0).fit(Features_lda)\n",
    "Features_k_means = k_means.labels_\n",
    "Features_k_means = Features_k_means.reshape(-1,1)\n",
    "Features_k_means = preprocessing.scale(Features_k_means)\n",
    "Features_k_means = np.concatenate((Features_k_means, Features_lda), axis=1)\n",
    "# implement logistic regression\n",
    "logreg = LogisticRegression(max_iter = 10000)\n",
    "logreg.fit(Features_k_means, Labels)\n",
    "# Load data from the test data csv file\n",
    "test_features = []\n",
    "with open('data/test/test.csv', 'r') as f:\n",
    "    reader = csv.reader(f)\n",
    "    test_data = list(reader)\n",
    "    # remove the first row\n",
    "    test_data = test_data[1:]\n",
    "    for row in test_data:\n",
    "        test_features.append(np.array([float(x) for x in row[1:]]))\n",
    "test_features = np.array(test_features)\n",
    "test_features_pca = pca.transform(test_features)\n",
    "test_features_lda = lda.transform(test_features_pca)\n",
    "test_features_k_means = k_means.predict(test_features_lda)\n",
    "test_features_k_means = test_features_k_means.reshape(-1,1)\n",
    "test_features_k_means = preprocessing.scale(test_features_k_means)\n",
    "test_features_k_means = np.concatenate((test_features_k_means, test_features_lda), axis=1)\n",
    "# predict the test data\n",
    "test_pred = logreg.predict(test_features_k_means)\n",
    "# write the prediction to the submission file\n",
    "with open('data/test/submission_56_results.csv', 'w', newline='') as f:\n",
    "    writer = csv.writer(f)\n",
    "    writer.writerow(['Id', 'Category'])\n",
    "    for i in range(len(test_pred)):\n",
    "        writer.writerow([i, test_pred[i]])"
   ]
  }
 ],
 "metadata": {
  "kernelspec": {
   "display_name": "Python 3",
   "language": "python",
   "name": "python3"
  },
  "language_info": {
   "codemirror_mode": {
    "name": "ipython",
    "version": 3
   },
   "file_extension": ".py",
   "mimetype": "text/x-python",
   "name": "python",
   "nbconvert_exporter": "python",
   "pygments_lexer": "ipython3",
   "version": "3.10.1"
  },
  "orig_nbformat": 4
 },
 "nbformat": 4,
 "nbformat_minor": 2
}
