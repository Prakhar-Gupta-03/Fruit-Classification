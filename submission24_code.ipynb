{
 "cells": [
  {
   "cell_type": "code",
   "execution_count": 9,
   "metadata": {},
   "outputs": [],
   "source": [
    "import csv\n",
    "import numpy as np\n",
    "from sklearn.linear_model import LogisticRegression\n",
    "from sklearn.model_selection import train_test_split\n",
    "from sklearn.metrics import accuracy_score\n",
    "from sklearn.discriminant_analysis import LinearDiscriminantAnalysis\n",
    "from sklearn.discriminant_analysis import QuadraticDiscriminantAnalysis\n",
    "from sklearn.neighbors import KNeighborsClassifier\n",
    "from sklearn.decomposition import PCA\n",
    "from sklearn.preprocessing import StandardScaler\n",
    "from sklearn.ensemble import RandomForestClassifier, VotingClassifier, BaggingClassifier\n",
    "from sklearn.model_selection import cross_val_score\n",
    "from sklearn import preprocessing"
   ]
  },
  {
   "cell_type": "code",
   "execution_count": 10,
   "metadata": {},
   "outputs": [],
   "source": [
    "# Load data from the train data csv file\n",
    "Feature = []\n",
    "Label = []\n",
    "with open('data/train/train.csv', 'r') as f:\n",
    "    reader = csv.reader(f)\n",
    "    train_data = list(reader)\n",
    "    # remove the first row\n",
    "    train_data = train_data[1:]\n",
    "    for row in train_data:\n",
    "        Feature.append(np.array([float(x) for x in row[1:-1]]))\n",
    "        Label.append(row[-1])\n",
    "Features = np.array(Feature)\n",
    "Labels = np.array(Label)"
   ]
  },
  {
   "cell_type": "code",
   "execution_count": null,
   "metadata": {},
   "outputs": [],
   "source": [
    "# perform PCA on the model \n",
    "no_of_components = 119\n",
    "pca = PCA(n_components=no_of_components)\n",
    "pca.fit(Features)\n",
    "Features = pca.transform(Features)\n",
    "# perform logistic regression on the model and set max_iter to 10000\n",
    "logistic = LogisticRegression(max_iter=10000)\n",
    "logistic.fit(Features, Labels)"
   ]
  },
  {
   "cell_type": "code",
   "execution_count": null,
   "metadata": {},
   "outputs": [],
   "source": [
    "with open('data/test/test.csv', 'r' ) as f:\n",
    "    reader = csv.reader(f)\n",
    "    test_data = list(reader)\n",
    "    test_data = test_data[1:]\n",
    "    test_features = []\n",
    "    for row in test_data:\n",
    "        test_features.append(np.array([float(x) for x in row[1:]]))\n",
    "    test_features = np.array(test_features)\n",
    "    test_features = pca.transform(test_features)\n",
    "    test_labels = logistic.predict(test_features)"
   ]
  },
  {
   "cell_type": "code",
   "execution_count": null,
   "metadata": {},
   "outputs": [],
   "source": [
    "with open('data/test/submission_24_results.csv', 'w', newline='') as f:\n",
    "    writer = csv.writer(f)\n",
    "    writer.writerow(['Id', 'Category'])\n",
    "    for i, label in enumerate(test_labels):\n",
    "        writer.writerow([i, label])"
   ]
  }
 ],
 "metadata": {
  "kernelspec": {
   "display_name": "Python 3",
   "language": "python",
   "name": "python3"
  },
  "language_info": {
   "name": "python",
   "version": "3.10.1"
  },
  "orig_nbformat": 4
 },
 "nbformat": 4,
 "nbformat_minor": 2
}
